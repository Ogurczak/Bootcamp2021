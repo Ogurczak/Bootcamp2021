{
 "cells": [
  {
   "cell_type": "code",
   "execution_count": 1,
   "metadata": {},
   "outputs": [],
   "source": [
    "import numpy as np\n",
    "from sklearn.metrics import accuracy_score, precision_score, recall_score, f1_score, confusion_matrix"
   ]
  },
  {
   "cell_type": "markdown",
   "metadata": {},
   "source": [
    "# Metrics implementation\n",
    "## Implement 5 metrics you've acknowledged during lecture:\n",
    "- confusion matrix\n",
    "- accuracy\n",
    "- precision\n",
    "- recall\n",
    "- f1_score\n",
    "\n",
    "Both for the binary and multiclass classification task\n",
    "## **IMPORTANT**: when faced with a multiclass task implement your metric according to the 'macro' average policy ([link](https://scikit-learn.org/stable/modules/generated/sklearn.metrics.precision_score.html))"
   ]
  },
  {
   "cell_type": "code",
   "execution_count": 14,
   "metadata": {},
   "outputs": [],
   "source": [
    "from testing_module import test_metric\n",
    "def my_confusion_matrix(y_true, y_pred) -> np.ndarray:\n",
    "    classes = max(y_true) + 1\n",
    "    matrix = np.zeros((classes, classes), dtype=np.uint32)\n",
    "    for yy_true, yy_pred in zip(y_true, y_pred):\n",
    "        matrix[int(yy_true),int(yy_pred)] += 1\n",
    "    return matrix\n",
    "\n",
    "def my_accuracy_function(y_true, y_pred):\n",
    "    hit = 0\n",
    "    for yy_true, yy_pred in zip(y_true, y_pred):\n",
    "        if yy_true == yy_pred:\n",
    "            hit += 1\n",
    "    return hit / len(y_true)\n",
    "\n",
    "def partial_recall(matrix, i):\n",
    "    tp = matrix[i,i]\n",
    "    fntp = sum(matrix[i])\n",
    "    return tp/fntp if fntp != 0 else 0\n",
    "\n",
    "def my_recall_function(y_true, y_pred):\n",
    "    matrix = my_confusion_matrix(y_true, y_pred)\n",
    "\n",
    "    if matrix.shape[0] == 2:\n",
    "        tp = matrix[1,1]\n",
    "        fn = matrix[1,0]\n",
    "        return tp/(tp+fn)\n",
    "\n",
    "    return np.average([partial_recall(matrix, i)for i in range(len(matrix))])\n",
    "\n",
    "def partial_precision(matrix, i):\n",
    "    tp = matrix[i,i]\n",
    "    fptp = sum(matrix[:, i])\n",
    "    return tp/fptp if fptp != 0 else 0\n",
    "\n",
    "def my_precision_function(y_true, y_pred):\n",
    "    matrix = my_confusion_matrix(y_true, y_pred)\n",
    "\n",
    "    if len(matrix) == 2:\n",
    "        tp = matrix[1,1]\n",
    "        fp = matrix[0,1]\n",
    "        return tp/(tp+fp)\n",
    "        \n",
    "    return np.average([partial_precision(matrix, i)for i in range(len(matrix))])\n",
    "\n",
    "def my_f1_function(y_true, y_pred):\n",
    "    matrix = my_confusion_matrix(y_true, y_pred)\n",
    "    if len(matrix) == 2:\n",
    "        precision = my_precision_function(y_true, y_pred)\n",
    "        recall = my_recall_function(y_true, y_pred)\n",
    "        return 2*precision*recall/(precision+recall)\n",
    "    else:\n",
    "        result_sum = 0\n",
    "        for i in range(len(matrix)):\n",
    "            precision = partial_precision(matrix, i)\n",
    "            recall = partial_recall(matrix, i)\n",
    "            result_sum += 2*precision*recall/(precision+recall)\n",
    "        return result_sum / len(matrix)\n",
    "    "
   ]
  },
  {
   "cell_type": "markdown",
   "metadata": {},
   "source": [
    "# Implementation tests"
   ]
  },
  {
   "cell_type": "code",
   "execution_count": 16,
   "metadata": {},
   "outputs": [
    {
     "data": {
      "text/plain": [
       "(None, None)"
      ]
     },
     "execution_count": 16,
     "metadata": {},
     "output_type": "execute_result"
    }
   ],
   "source": [
    "test_metric(confusion_matrix, my_confusion_matrix)\n",
    "test_metric(accuracy_score, my_accuracy_function)\n",
    "test_metric(recall_score, my_recall_function)\n",
    "test_metric(precision_score, my_precision_function)\n",
    "test_metric(f1_score, my_f1_function)"
   ]
  },
  {
   "cell_type": "markdown",
   "metadata": {},
   "source": [
    "# Classification task\n",
    "Using knowledge from the lecture and lecture notebook import data from `/data/seeds_dataset.csv`, train, test and compare models you've already encountered (and extra ones from sklearn if you want :)). Try e.g. to choose the best value of the `max_depth` hyperparameter in the `sklearn.tree.DecisionTreeClassifier()` model\n",
    "## Have fun!"
   ]
  },
  {
   "cell_type": "code",
   "execution_count": 6,
   "metadata": {},
   "outputs": [],
   "source": [
    "import pandas as pd\n",
    "import os\n",
    "\n",
    "data = pd.read_csv(\"data/seeds_dataset.csv\")\n",
    "X = data.drop('class', axis=1).values\n",
    "y = data['class'].values\n",
    "\n",
    "for i, col in enumerate(X.T):\n",
    "    X[:, i] /= max(col)"
   ]
  },
  {
   "cell_type": "code",
   "execution_count": 16,
   "metadata": {},
   "outputs": [
    {
     "data": {
      "image/png": "[encoded data removed]",
      "text/plain": [
       "<Figure size 432x288 with 2 Axes>"
      ]
     },
     "metadata": {
      "needs_background": "light"
     },
     "output_type": "display_data"
    },
    {
     "name": "stdout",
     "output_type": "stream",
     "text": [
      "Accuracy:\t0.7682926829268293\n",
      "Precision:\t0.8408521303258145\n",
      "Recall:\t\t0.6314814814814814\n",
      "F1:\t\t0.6454146454146454\n"
     ]
    }
   ],
   "source": [
    "from sklearn.model_selection import train_test_split\n",
    "from sklearn.linear_model import LogisticRegression\n",
    "from sklearn.tree import DecisionTreeClassifier\n",
    "from seaborn import heatmap\n",
    "from matplotlib import pyplot as plt\n",
    "\n",
    "MODELS = [\n",
    "    LogisticRegression(),\n",
    "    DecisionTreeClassifier(max_depth=3)\n",
    "    DecisionTreeClassifier(max_depth=5)\n",
    "    DecisionTreeClassifier(max_depth=7)\n",
    "    DecisionTreeClassifier(max_depth=10)\n",
    "    ]\n",
    "\n",
    "def show_metrics(y_test, y_pred):\n",
    "    matrix = confusion_matrix(y_test, y_pred)\n",
    "    avg = \"binary\" if matrix.shape[0] == 2 else \"macro\"\n",
    "\n",
    "    fig = plt.figure()\n",
    "    fig.add\n",
    "    ax = plt.axes()\n",
    "    heatmap(matrix, annot=True, ax=ax)\n",
    "    plt.show()\n",
    "\n",
    "    print(f\"Accuracy:\\t{accuracy_score(y_test, y_pred)}\")\n",
    "    print(f\"Precision:\\t{precision_score(y_test, y_pred, average=avg)}\")\n",
    "    print(f\"Recall:\\t\\t{recall_score(y_test, y_pred, average=avg)}\")\n",
    "    print(f\"F1:\\t\\t{f1_score(y_test, y_pred, average=avg)}\")\n",
    "\n",
    "X_train, X_test, y_train, y_test = train_test_split(X, y, train_size=0.5)\n",
    "\n",
    "for model in MODELS:\n",
    "    model.fit(X_train, y_train)\n",
    "    y_pred = model.predict(X_test)\n",
    "    show_metrics(y_test, y_pred)\n",
    "    \n"
   ]
  }
 ],
 "metadata": {
  "interpreter": {
   "hash": "823399108748e18775acaee2454a1156bf03836c7f7499aec021623f99a72133"
  },
  "kernelspec": {
   "display_name": "Python 3.9.7 64-bit ('bootcamp_env': venv)",
   "name": "python3"
  },
  "language_info": {
   "codemirror_mode": {
    "name": "ipython",
    "version": 3
   },
   "file_extension": ".py",
   "mimetype": "text/x-python",
   "name": "python",
   "nbconvert_exporter": "python",
   "pygments_lexer": "ipython3",
   "version": "3.9.7"
  },
  "orig_nbformat": 4
 },
 "nbformat": 4,
 "nbformat_minor": 2
}
